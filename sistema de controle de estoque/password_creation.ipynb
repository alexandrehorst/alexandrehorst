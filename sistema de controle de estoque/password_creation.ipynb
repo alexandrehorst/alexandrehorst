{
 "cells": [
  {
   "cell_type": "code",
   "execution_count": 4,
   "id": "a0e16c9f",
   "metadata": {},
   "outputs": [
    {
     "name": "stdout",
     "output_type": "stream",
     "text": [
      "Insira um nome de usuário: joaosilva\n",
      "Insira uma senha para cadastro: ········\n",
      "$2b$12$5P6q7wZ5hCJXIoPKfhuxh.9gN4IO7/9r.ckb1tcBwta2Mw44otmzG\n",
      "Usuário joaosilva cadastrado com sucesso\n"
     ]
    }
   ],
   "source": [
    "from flask_bcrypt import Bcrypt\n",
    "import pyodbc\n",
    "from getpass import getpass\n",
    "\n",
    "bcrypt = Bcrypt()\n",
    "\n",
    "nome_usuario = input('Insira um nome de usuário: ')\n",
    "# Verifica se há usuário cadastrado\n",
    "if nome_usuario:  # Se o nome do usuário for especificado, realiza a busca\n",
    "        # Faz a conexão com o BD\n",
    "        dados_conexao = (\"Driver={SQLite3 ODBC Driver};Server=localhost;Database=almoxarifado.db\")\n",
    "        conexao = pyodbc.connect(dados_conexao)\n",
    "        cursor = conexao.cursor()\n",
    "        # Realiza uma consulta ao BD para buscar o usuário\n",
    "        cursor.execute(f\"SELECT * FROM users WHERE Username='{nome_usuario}'\")        \n",
    "        valores = cursor.fetchall()  # Pega todos os valores da tabela            \n",
    "        cursor.close()\n",
    "        conexao.close()\n",
    "        if valores == []:  # Mostra msg ao usuário indicando o resultado da busca\n",
    "            senha = getpass('Insira uma senha para cadastro: ')\n",
    "            # Gera o hash da senha\n",
    "            senha_cript = bcrypt.generate_password_hash(senha).decode('utf-8')\n",
    "            print(senha_cript)\n",
    "            # Faz a conexão com o BD \n",
    "            dados_conexao = (\"Driver={SQLite3 ODBC Driver};Server=localhost;Database=almoxarifado.db\")\n",
    "            conexao = pyodbc.connect(dados_conexao)\n",
    "            cursor = conexao.cursor()\n",
    "            # Salva as infos de usuáro e senha (hash) no BD\n",
    "            cursor.execute(f\"\"\"\n",
    "            INSERT INTO users (Username, Password) \n",
    "            VALUES (\"{nome_usuario}\", \"{senha_cript}\")\n",
    "            \"\"\")            \n",
    "            cursor.commit()  # Salva as alterações no BD (faz um commit)\n",
    "            # Encerra a conexão\n",
    "            cursor.close()  \n",
    "            conexao.close()\n",
    "            print(f'Usuário {nome_usuario} cadastrado com sucesso')\n",
    "            # Verificar se o hash da senha está correto\n",
    "            bcrypt.check_password_hash(senha_cript, senha)\n",
    "        else:\n",
    "            print('Usuário já cadastrado!')\n",
    "        \n",
    "else:\n",
    "    print('É necessário informar um nome de usuário!')"
   ]
  },
  {
   "cell_type": "code",
   "execution_count": null,
   "id": "c8293772",
   "metadata": {},
   "outputs": [],
   "source": []
  },
  {
   "cell_type": "code",
   "execution_count": null,
   "id": "1c55c4d0",
   "metadata": {},
   "outputs": [],
   "source": []
  }
 ],
 "metadata": {
  "kernelspec": {
   "display_name": "Python 3 (ipykernel)",
   "language": "python",
   "name": "python3"
  },
  "language_info": {
   "codemirror_mode": {
    "name": "ipython",
    "version": 3
   },
   "file_extension": ".py",
   "mimetype": "text/x-python",
   "name": "python",
   "nbconvert_exporter": "python",
   "pygments_lexer": "ipython3",
   "version": "3.9.13"
  }
 },
 "nbformat": 4,
 "nbformat_minor": 5
}
